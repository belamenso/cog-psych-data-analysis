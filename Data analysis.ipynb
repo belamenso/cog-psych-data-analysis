{
 "cells": [
  {
   "cell_type": "markdown",
   "id": "04ee3bdd",
   "metadata": {},
   "source": [
    "# Experiment data analysis"
   ]
  },
  {
   "cell_type": "code",
   "execution_count": 180,
   "id": "cc00a97f",
   "metadata": {},
   "outputs": [],
   "source": [
    "import numpy\n",
    "from scipy.special import binom"
   ]
  },
  {
   "cell_type": "code",
   "execution_count": 181,
   "id": "7d5a6c03",
   "metadata": {},
   "outputs": [],
   "source": [
    "experiment_colors = [\"red\", \"blue\", \"green\", \"pink\", \"gray\", \"yellow\", \"brown\", \"black\"]\n",
    "\n",
    "\n",
    "def is_negatively_associated_color(color):\n",
    "    assert isinstance(color, str) and color in experiment_colors\n",
    "    return color == \"black\"\n",
    "\n",
    "\n",
    "def is_positively_associated_color(color):\n",
    "    assert isinstance(color, str) and color in experiment_colors\n",
    "    return color in {\"red\", \"blue\", \"green\", \"pink\", \"yellow\"}"
   ]
  },
  {
   "cell_type": "markdown",
   "id": "4f352e76",
   "metadata": {},
   "source": [
    "## Results of the experiment are here\n",
    "\n",
    "Current data is randomly generated, later insert something like\n",
    "```\n",
    "results_control = [1,2,5,2,7,2,3,4]\n",
    "```\n",
    "where the numbers correspond to how many kids in a specific group has picked some color (order as in `experiment_colors`)."
   ]
  },
  {
   "cell_type": "code",
   "execution_count": 194,
   "id": "7fef57cb",
   "metadata": {},
   "outputs": [],
   "source": [
    "def random_data(): return [10+round(i) for i in numpy.random.uniform(0,3, size=len(experiment_colors))]\n",
    "\n",
    "results_control = random_data()\n",
    "results_positive_story = random_data()\n",
    "results_positive_story[experiment_colors.index('green')] += 40\n",
    "results_negative_story = random_data()\n",
    "results_negative_story[experiment_colors.index('black')] += 10\n",
    "\n",
    "for group_results in [results_control, results_positive_story, results_negative_story]:\n",
    "    assert len(group_results) == len(experiment_colors)\n",
    "    assert all(isinstance(x, int) and x >= 0 for x in group_results)"
   ]
  },
  {
   "cell_type": "markdown",
   "id": "0834aa78",
   "metadata": {},
   "source": [
    "## Hypothesis testing\n",
    "We first compute the expected distribution from the control group data. Our null hypothesis is that the data collected from the positive/negative story groups follows this distribution.\n",
    "\n",
    "Our alternative hypothesis is that the data collected from (non-control) children follows from distributions\n",
    "where probability of colors correlating with their standard biases is *higher* than in the control group.\n",
    "\n",
    "We then calculate the probability of witnessing collected data under the assumption that the null hypothesis holds.\n",
    "If this probability is very small (that is, below α = 0.05) we assume that the null hypothesis is\n",
    "unlikely and therefore our alternative hypothesis seems correct."
   ]
  },
  {
   "cell_type": "code",
   "execution_count": 195,
   "id": "a839a4e7",
   "metadata": {},
   "outputs": [],
   "source": [
    "def bernoulli_p(group_results, color_association_predicate):\n",
    "    return sum(\n",
    "        n\n",
    "        for color_idx, n in enumerate(group_results)\n",
    "        if color_association_predicate(experiment_colors[color_idx])\n",
    "    ) / sum(group_results)"
   ]
  },
  {
   "cell_type": "code",
   "execution_count": 196,
   "id": "c3099926",
   "metadata": {},
   "outputs": [],
   "source": [
    "positive_control_p = bernoulli_p(results_control, is_positively_associated_color)\n",
    "negative_control_p = bernoulli_p(results_control, is_negatively_associated_color)"
   ]
  },
  {
   "cell_type": "code",
   "execution_count": 197,
   "id": "0e81bea0",
   "metadata": {},
   "outputs": [],
   "source": [
    "def binomial_pdf(p, trials, successes):\n",
    "    return binom(trials, successes) * p**successes * (1 - p)**(trials - successes)"
   ]
  },
  {
   "cell_type": "code",
   "execution_count": 198,
   "id": "d99f47f6",
   "metadata": {},
   "outputs": [],
   "source": [
    "def probability_of_results_under_null_hypothesis(null_p, group_results, color_association_predicate):\n",
    "    prob = 0\n",
    "    for successes in range(\n",
    "            sum(\n",
    "                n\n",
    "                for color_idx, n in enumerate(group_results)\n",
    "                if color_association_predicate(experiment_colors[color_idx])),\n",
    "            sum(group_results)):\n",
    "        prob += binomial_pdf(null_p, sum(group_results), successes)\n",
    "    return prob"
   ]
  },
  {
   "cell_type": "markdown",
   "id": "82ee0825",
   "metadata": {},
   "source": [
    "### Final results\n",
    "If the following probabilities are under α=0.05, then it can be said that we have rejected the null hypothesis\n",
    "and therefore proven that it's likely the expected biases exist."
   ]
  },
  {
   "cell_type": "code",
   "execution_count": 199,
   "id": "73ad7f08",
   "metadata": {},
   "outputs": [],
   "source": [
    "α = 0.05"
   ]
  },
  {
   "cell_type": "code",
   "execution_count": 200,
   "id": "c16313db",
   "metadata": {},
   "outputs": [
    {
     "data": {
      "text/plain": [
       "(0.011886094750535226, True)"
      ]
     },
     "execution_count": 200,
     "metadata": {},
     "output_type": "execute_result"
    }
   ],
   "source": [
    "pp = probability_of_results_under_null_hypothesis(\n",
    "        positive_control_p,\n",
    "        results_positive_story,\n",
    "        is_positively_associated_color)\n",
    "pp, pp < α"
   ]
  },
  {
   "cell_type": "code",
   "execution_count": 201,
   "id": "68558180",
   "metadata": {},
   "outputs": [
    {
     "data": {
      "text/plain": [
       "(0.006836533411551267, True)"
      ]
     },
     "execution_count": 201,
     "metadata": {},
     "output_type": "execute_result"
    }
   ],
   "source": [
    "pn = probability_of_results_under_null_hypothesis(\n",
    "        negative_control_p,\n",
    "        results_negative_story,\n",
    "        is_negatively_associated_color)\n",
    "pn, pn < α"
   ]
  },
  {
   "cell_type": "markdown",
   "id": "49a74539",
   "metadata": {},
   "source": [
    "Probability of observing the collected data under the null hypothesis is below α, we therefore assume\n",
    "that there is a statistically significant correlation we were after."
   ]
  },
  {
   "cell_type": "markdown",
   "id": "34dcca69",
   "metadata": {},
   "source": [
    "## Notes\n",
    "* The code currently does not take children age into account, I assume that two age groups are separate experiments\n",
    "* If you want to test each color, replace predicates with something like `lambda c: c == 'red'`"
   ]
  }
 ],
 "metadata": {
  "kernelspec": {
   "display_name": "Python 3 (ipykernel)",
   "language": "python",
   "name": "python3"
  },
  "language_info": {
   "codemirror_mode": {
    "name": "ipython",
    "version": 3
   },
   "file_extension": ".py",
   "mimetype": "text/x-python",
   "name": "python",
   "nbconvert_exporter": "python",
   "pygments_lexer": "ipython3",
   "version": "3.9.5"
  }
 },
 "nbformat": 4,
 "nbformat_minor": 5
}
